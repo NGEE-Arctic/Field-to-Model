{
 "cells": [
  {
   "cell_type": "code",
   "execution_count": null,
   "id": "5a559b28-28f8-4bc2-b503-70f346174dc3",
   "metadata": {},
   "outputs": [],
   "source": [
    "import cftime\n",
    "import numpy as np\n",
    "import xarray as xr\n",
    "import matplotlib.pyplot as plt"
   ]
  },
  {
   "cell_type": "code",
   "execution_count": null,
   "id": "fea4064d-d914-4dfe-ac71-5222b7430624",
   "metadata": {},
   "outputs": [],
   "source": [
    "def convert_cftime_to_datetime(time_values):\n",
    "    \"\"\"Convert cftime objects to numpy datetime64\"\"\"\n",
    "    if isinstance(time_values[0], cftime.datetime):\n",
    "        return np.array([np.datetime64(t.strftime('%Y-%m-%d %H:%M:%S')) for t in time_values])\n",
    "    return time_values"
   ]
  },
  {
   "cell_type": "code",
   "execution_count": null,
   "id": "004b2268-2ea9-4f35-bacc-08147274e3b7",
   "metadata": {},
   "outputs": [],
   "source": [
    "control_in = xr.open_dataset(\"/home/modex_user/inputdata/cru-ts40_ar5_rcp85_ncar-ccsm4_toolik_field_station_10x10/historic-climate.nc\")\n",
    "treat_in = xr.open_dataset(\"/home/modex_user/inputdata/cru-ts40_ar5_rcp85_ncar-ccsm4_toolik_field_station_10x10_warming_2.6C_JJAS_2019/historic-climate.nc\")"
   ]
  },
  {
   "cell_type": "code",
   "execution_count": null,
   "id": "30a85b45-39bf-432b-b6ad-a54b96d3f4ed",
   "metadata": {},
   "outputs": [],
   "source": [
    "# Get some cleaner non-cftime objects that play nicer with the plotting\n",
    "time = convert_cftime_to_datetime(control_in.time.values)"
   ]
  },
  {
   "cell_type": "code",
   "execution_count": null,
   "id": "732fcd4a-7cce-445a-9f84-cf6f64c28a61",
   "metadata": {},
   "outputs": [],
   "source": [
    "plt.plot(time[1390:1450], control_in.tair[1390:1450,0,0], color='black')\n",
    "plt.plot(time[1390:1450], treat_in.tair[1390:1450,0,0], color='red')"
   ]
  },
  {
   "cell_type": "code",
   "execution_count": null,
   "id": "ca977b58-d89c-4692-9b34-f6bc50c4bc9f",
   "metadata": {},
   "outputs": [],
   "source": [
    "\n",
    "control_GPP = xr.open_dataset('/home/modex_user/output/tem/tem_ee3_warming/control/output/GPP_monthly_tr.nc')\n",
    "treat_GPP = xr.open_dataset('/home/modex_user/output/tem/tem_ee3_warming/treatment/output/GPP_monthly_tr.nc')"
   ]
  },
  {
   "cell_type": "code",
   "execution_count": null,
   "id": "0de39112-d147-4987-8dd9-c2312abdecbc",
   "metadata": {},
   "outputs": [],
   "source": [
    "plt.plot(time[1390:1450],control_GPP.GPP.sum('pft')[1390:1450,0,0], color='black')\n",
    "plt.plot(time[1390:1450],treat_GPP.GPP.sum('pft')[1390:1450,0,0], color='red')\n"
   ]
  },
  {
   "cell_type": "code",
   "execution_count": null,
   "id": "544ec7fb-176b-4feb-96f5-33d3bf73a9d6",
   "metadata": {},
   "outputs": [],
   "source": [
    "plt.plot(time[1390:1500],  (control_GPP.GPP.sum('pft')[1390:1500,0,0] - treat_GPP.GPP.sum('pft')[1390:1500,0,0]) , color='black')"
   ]
  },
  {
   "cell_type": "code",
   "execution_count": null,
   "id": "a3048d64-afa7-4314-b66c-299f9eb962db",
   "metadata": {},
   "outputs": [],
   "source": [
    "control_st = xr.open_dataset('/home/modex_user/output/tem/tem_ee3_warming/control/output/TLAYER_monthly_tr.nc')\n",
    "treat_st = xr.open_dataset('/home/modex_user/output/tem/tem_ee3_warming/treatment/output/TLAYER_monthly_tr.nc')\n"
   ]
  },
  {
   "cell_type": "code",
   "execution_count": null,
   "id": "f5942a13-5b97-431e-b116-561075360196",
   "metadata": {},
   "outputs": [],
   "source": [
    "plt.plot(time[1390:1450], control_st.TLAYER[1390:1450,0,0,0])\n",
    "plt.plot(time[1390:1450], treat_st.TLAYER[1390:1450,0,0,0])\n"
   ]
  },
  {
   "cell_type": "code",
   "execution_count": null,
   "id": "4199338b-06f3-401e-8dee-cb39393dc4fa",
   "metadata": {},
   "outputs": [],
   "source": [
    "plt.plot(time[1390:1450], control_st.TLAYER[1390:1450,1,0,0])\n",
    "plt.plot(time[1390:1450], treat_st.TLAYER[1390:1450,1,0,0])\n"
   ]
  },
  {
   "cell_type": "code",
   "execution_count": null,
   "id": "4749b761-ed96-440e-b353-9b4fca16abfe",
   "metadata": {},
   "outputs": [],
   "source": []
  }
 ],
 "metadata": {
  "kernelspec": {
   "display_name": "Python 3 (ipykernel)",
   "language": "python",
   "name": "python3"
  },
  "language_info": {
   "codemirror_mode": {
    "name": "ipython",
    "version": 3
   },
   "file_extension": ".py",
   "mimetype": "text/x-python",
   "name": "python",
   "nbconvert_exporter": "python",
   "pygments_lexer": "ipython3",
   "version": "3.11.14"
  }
 },
 "nbformat": 4,
 "nbformat_minor": 5
}
